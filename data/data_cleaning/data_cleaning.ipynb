{
 "cells": [
  {
   "cell_type": "code",
   "execution_count": 56,
   "id": "0603d302",
   "metadata": {},
   "outputs": [],
   "source": [
    "import json\n",
    "import pandas as pd\n",
    "import numpy as np\n",
    "import re\n",
    "\n",
    "with open(\"data/../../course_data.json\", \"r\", encoding=\"utf-8\") as f:\n",
    "    data = json.load(f)"
   ]
  },
  {
   "cell_type": "code",
   "execution_count": 57,
   "id": "a78047ba",
   "metadata": {},
   "outputs": [
    {
     "name": "stdout",
     "output_type": "stream",
     "text": [
      "['url', 'university', 'faculty', 'field', 'ชื่อหลักสูตร', 'ชื่อหลักสูตรภาษาอังกฤษ', 'ประเภทหลักสูตร', 'วิทยาเขต', 'ค่าใช้จ่าย', 'อัตราการสำเร็จการศึกษา', 'รอบ 1 Portfolio', 'รอบ 2 Quota', 'รอบ 3 Admission', 'รอบ 4 Direct Admission', 'ค่ามัธยฐานเงินเดือน', 'อัตราการได้งานทำ', 'สาขาวิชา']\n"
     ]
    }
   ],
   "source": [
    "rows = []\n",
    "for item in data:\n",
    "    base = {\n",
    "        \"url\": item.get(\"url\"),\n",
    "        \"university\": item.get(\"university\"),\n",
    "        \"faculty\": item.get(\"faculty\"),\n",
    "        \"field\": item.get(\"field\")\n",
    "    }\n",
    "    details = item.get(\"details\", {})\n",
    "    all_fields = {**base, **details}\n",
    "    rows.append(all_fields)\n",
    "\n",
    "df = pd.DataFrame(rows)\n",
    "print(df.columns.tolist())"
   ]
  },
  {
   "cell_type": "code",
   "execution_count": 58,
   "id": "02ed3012",
   "metadata": {},
   "outputs": [],
   "source": [
    "df_new = df[['url', 'university', 'faculty', 'field', 'ชื่อหลักสูตร', 'ชื่อหลักสูตรภาษาอังกฤษ', 'ประเภทหลักสูตร', 'วิทยาเขต', 'ค่าใช้จ่าย' , 'รอบ 1 Portfolio', 'รอบ 2 Quota', 'รอบ 3 Admission', 'รอบ 4 Direct Admission']].copy()"
   ]
  },
  {
   "cell_type": "code",
   "execution_count": 59,
   "id": "dbf42678",
   "metadata": {},
   "outputs": [
    {
     "name": "stdout",
     "output_type": "stream",
     "text": [
      "fee_group\n",
      "ภาคการศึกษา     31\n",
      "ตัวเลขล้วน      10\n",
      "อื่นๆ            9\n",
      "ตลอดหลักสูตร     9\n",
      "NaN              4\n",
      "Name: count, dtype: int64\n"
     ]
    }
   ],
   "source": [
    "# --- Create an expense group ---\n",
    "def classify_fee_group(value):\n",
    "    if pd.isna(value):\n",
    "        return \"NaN\"\n",
    "    txt = str(value)\n",
    "    if \"ภาคการศึกษา\" in txt or \"ต่อภาคเรียน\" in txt:\n",
    "        return \"ภาคการศึกษา\"\n",
    "    elif \"ตลอดหลักสูตร\" in txt:\n",
    "        return \"ตลอดหลักสูตร\"\n",
    "    elif txt.replace(\",\", \"\").strip().isdigit():\n",
    "        return \"ตัวเลขล้วน\"\n",
    "    elif txt.strip().lower() == \"nan\":\n",
    "        return \"NaN\"\n",
    "    else:\n",
    "        return \"อื่นๆ\"\n",
    "\n",
    "df_new[\"fee_group\"] = df_new[\"ค่าใช้จ่าย\"].apply(classify_fee_group)\n",
    "\n",
    "# --- Summarize the count of each fee group ---\n",
    "print(df_new[\"fee_group\"].value_counts())"
   ]
  },
  {
   "cell_type": "code",
   "execution_count": 60,
   "id": "662f88c0",
   "metadata": {},
   "outputs": [],
   "source": [
    "cat1 = df_new[df_new[\"fee_group\"] == \"ภาคการศึกษา\"]\n",
    "cat2 = df_new[df_new[\"fee_group\"] == \"อื่นๆ\"]\n",
    "cat3 = df_new[df_new[\"fee_group\"] == \"ตลอดหลักสูตร\"]\n",
    "cat4 = df_new[df_new[\"fee_group\"] == \"ตัวเลขล้วน\"]\n",
    "cat5 = df_new[df_new[\"fee_group\"] == \"NaN\"]"
   ]
  },
  {
   "cell_type": "code",
   "execution_count": 61,
   "id": "6aa94bdd",
   "metadata": {},
   "outputs": [],
   "source": [
    "cat1_numeric = cat1[\"ค่าใช้จ่าย\"].str.replace(\",\", \"\")\n",
    "cat1_numbers = cat1_numeric.str.findall(r\"\\d+\").apply(lambda x: [int(i) for i in x] if x else [])\n",
    "\n",
    "cat1_tuitions = cat1.copy()\n",
    "\n",
    "def custom_tuition(x, idx):\n",
    "    if idx == 38:\n",
    "        return x[0] / 8 if x else None\n",
    "    elif idx == 43:\n",
    "        return x[1] if len(x) > 1 else (x[0] if x else None)\n",
    "    elif idx == 45:\n",
    "        return 12253\n",
    "    else:\n",
    "        return x[0] if x else None\n",
    "\n",
    "cat1_tuitions[\"tuition\"] = [\n",
    "    custom_tuition(x, idx) for idx, x in zip(cat1.index, cat1_numbers)\n",
    "]"
   ]
  },
  {
   "cell_type": "code",
   "execution_count": 62,
   "id": "c87f718f",
   "metadata": {},
   "outputs": [],
   "source": [
    "cat2_tuitions = cat2.copy()\n",
    "cat2_tuitions_list = [20000, 70000, 30000, 30650, 25000, 21000, 26875, 8820, 43572]\n",
    "cat2_tuitions[\"tuition\"] = cat2_tuitions_list"
   ]
  },
  {
   "cell_type": "code",
   "execution_count": 63,
   "id": "1a505efc",
   "metadata": {},
   "outputs": [],
   "source": [
    "cat3_numeric = cat3[\"ค่าใช้จ่าย\"].str.replace(\",\", \"\")\n",
    "cat3_numbers = cat3_numeric.str.findall(r\"\\d+\").apply(lambda x: [int(i) for i in x] if x else [])\n",
    "\n",
    "cat3_tuitions = cat3.copy()\n",
    "cat3_tuitions[\"tuition\"] = cat3_numbers.apply(lambda x: x[0] / 8 if x else None)"
   ]
  },
  {
   "cell_type": "code",
   "execution_count": 64,
   "id": "f4a23a7a",
   "metadata": {},
   "outputs": [
    {
     "name": "stderr",
     "output_type": "stream",
     "text": [
      "C:\\Users\\HP\\AppData\\Local\\Temp\\ipykernel_28992\\593424723.py:12: FutureWarning: Setting an item of incompatible dtype is deprecated and will raise in a future error of pandas. Value '[19500.  29100.  23000.  50000.  24637.5 14000.  13750.  13750.  13750. ]' has dtype incompatible with int32, please explicitly cast to a compatible dtype first.\n",
      "  cat4_tuitions.loc[mask, \"tuition\"] = cat4_tuitions.loc[mask, \"tuition\"] / 8\n"
     ]
    }
   ],
   "source": [
    "cat4_tuitions = cat4.copy()\n",
    "\n",
    "cat4_tuitions[\"tuition\"] = (\n",
    "    cat4_tuitions[\"ค่าใช้จ่าย\"]\n",
    "    .astype(str)\n",
    "    .str.replace(\",\", \"\")\n",
    "    .str.extract(r\"(\\d+)\")\n",
    "    .astype(int)\n",
    ")\n",
    "\n",
    "mask = cat4_tuitions[\"tuition\"] > 100000\n",
    "cat4_tuitions.loc[mask, \"tuition\"] = cat4_tuitions.loc[mask, \"tuition\"] / 8"
   ]
  },
  {
   "cell_type": "code",
   "execution_count": 65,
   "id": "d393da7e",
   "metadata": {},
   "outputs": [],
   "source": [
    "cat5_tuitions = cat5.copy()\n",
    "cat5_tuitions_list = [17300, 15000, 26667, 44250]\n",
    "\n",
    "cat5_tuitions[\"tuition\"] = cat5_tuitions_list"
   ]
  },
  {
   "cell_type": "code",
   "execution_count": 66,
   "id": "4b949c02",
   "metadata": {},
   "outputs": [],
   "source": [
    "tuition_dfs = [\n",
    "    cat1_tuitions,\n",
    "    cat2_tuitions,\n",
    "    cat3_tuitions,\n",
    "    cat4_tuitions,\n",
    "    cat5_tuitions\n",
    "]\n",
    "\n",
    "df_with_tuition = pd.concat(tuition_dfs, ignore_index=True)"
   ]
  },
  {
   "cell_type": "code",
   "execution_count": 67,
   "id": "f4183a96",
   "metadata": {},
   "outputs": [
    {
     "data": {
      "text/html": [
       "<div>\n",
       "<style scoped>\n",
       "    .dataframe tbody tr th:only-of-type {\n",
       "        vertical-align: middle;\n",
       "    }\n",
       "\n",
       "    .dataframe tbody tr th {\n",
       "        vertical-align: top;\n",
       "    }\n",
       "\n",
       "    .dataframe thead th {\n",
       "        text-align: right;\n",
       "    }\n",
       "</style>\n",
       "<table border=\"1\" class=\"dataframe\">\n",
       "  <thead>\n",
       "    <tr style=\"text-align: right;\">\n",
       "      <th></th>\n",
       "      <th>url</th>\n",
       "      <th>university</th>\n",
       "      <th>faculty</th>\n",
       "      <th>field</th>\n",
       "      <th>program_name</th>\n",
       "      <th>program_name_en</th>\n",
       "      <th>program_type</th>\n",
       "      <th>campus</th>\n",
       "      <th>รอบ 1 Portfolio</th>\n",
       "      <th>รอบ 2 Quota</th>\n",
       "      <th>รอบ 3 Admission</th>\n",
       "      <th>รอบ 4 Direct Admission</th>\n",
       "      <th>tuition</th>\n",
       "    </tr>\n",
       "  </thead>\n",
       "  <tbody>\n",
       "    <tr>\n",
       "      <th>0</th>\n",
       "      <td>https://course.mytcas.com/programs/10010121300...</td>\n",
       "      <td>จุฬาลงกรณ์มหาวิทยาลัย</td>\n",
       "      <td>คณะวิศวกรรมศาสตร์</td>\n",
       "      <td>วิศวกรรมคอมพิวเตอร์</td>\n",
       "      <td>หลักสูตรวิศวกรรมศาสตรบัณฑิต สาขาวิชาวิศวกรรมคอ...</td>\n",
       "      <td>Bachelor of Engineering Program in Computer En...</td>\n",
       "      <td>ภาษาไทย ปกติ</td>\n",
       "      <td>วิทยาเขตหลัก</td>\n",
       "      <td>รับ 60 คน</td>\n",
       "      <td>ไม่เปิดรับสมัครในรอบนี้</td>\n",
       "      <td>รับ 80 คน</td>\n",
       "      <td>ไม่เปิดรับสมัครในรอบนี้</td>\n",
       "      <td>25500.0</td>\n",
       "    </tr>\n",
       "    <tr>\n",
       "      <th>1</th>\n",
       "      <td>https://course.mytcas.com/programs/10010121300...</td>\n",
       "      <td>จุฬาลงกรณ์มหาวิทยาลัย</td>\n",
       "      <td>คณะวิศวกรรมศาสตร์</td>\n",
       "      <td>วิศวกรรมคอมพิวเตอร์</td>\n",
       "      <td>หลักสูตรวิศวกรรมศาสตรบัณฑิต สาขาวิชาวิศวกรรมคอ...</td>\n",
       "      <td>Bachelor of Engineering Program in Computer En...</td>\n",
       "      <td>ภาษาไทย ปกติ</td>\n",
       "      <td>วิทยาเขตหลัก</td>\n",
       "      <td>รับ 220 คน</td>\n",
       "      <td>รับ 10 คน</td>\n",
       "      <td>รับ 105 คน</td>\n",
       "      <td>ไม่เปิดรับสมัครในรอบนี้</td>\n",
       "      <td>25500.0</td>\n",
       "    </tr>\n",
       "    <tr>\n",
       "      <th>2</th>\n",
       "      <td>https://course.mytcas.com/programs/10050210300...</td>\n",
       "      <td>มหาวิทยาลัยธรรมศาสตร์</td>\n",
       "      <td>คณะวิศวกรรมศาสตร์</td>\n",
       "      <td>วิศวกรรมคอมพิวเตอร์</td>\n",
       "      <td>วศ.บ.สาขาวิชาวิศวกรรมคอมพิวเตอร์</td>\n",
       "      <td>Bachelor of Engineering Program in Computer En...</td>\n",
       "      <td>ภาษาไทย ปกติ</td>\n",
       "      <td>ศูนย์รังสิต</td>\n",
       "      <td>รับ 18 คน</td>\n",
       "      <td>รับ 23 คน</td>\n",
       "      <td>รับ 30 คน</td>\n",
       "      <td>ไม่เปิดรับสมัครในรอบนี้</td>\n",
       "      <td>18900.0</td>\n",
       "    </tr>\n",
       "    <tr>\n",
       "      <th>3</th>\n",
       "      <td>https://course.mytcas.com/programs/10050222300...</td>\n",
       "      <td>มหาวิทยาลัยธรรมศาสตร์</td>\n",
       "      <td>สถาบันเทคโนโลยีนานาชาติสิรินธร</td>\n",
       "      <td>วิศวกรรมคอมพิวเตอร์</td>\n",
       "      <td>วศ.บ.สาขาวิชาวิศวกรรมดิจิทัล และวิศวกรรมคอมพิว...</td>\n",
       "      <td>Bachelor of Engineering (B.Eng.)</td>\n",
       "      <td>นานาชาติ</td>\n",
       "      <td>ศูนย์รังสิต</td>\n",
       "      <td>รับ 159 คน</td>\n",
       "      <td>รับ 50 คน</td>\n",
       "      <td>รับ 15 คน</td>\n",
       "      <td>รับ 10 คน</td>\n",
       "      <td>101200.0</td>\n",
       "    </tr>\n",
       "    <tr>\n",
       "      <th>4</th>\n",
       "      <td>https://course.mytcas.com/programs/10060112300...</td>\n",
       "      <td>มหาวิทยาลัยมหิดล</td>\n",
       "      <td>คณะวิศวกรรมศาสตร์</td>\n",
       "      <td>วิศวกรรมคอมพิวเตอร์</td>\n",
       "      <td>หลักสูตรวิศวกรรมศาสตรบัณฑิต สาขาวิชาวิศวกรรมคอ...</td>\n",
       "      <td>Bachelor of Engineering Program in Computer En...</td>\n",
       "      <td>ภาษาไทย ปกติ</td>\n",
       "      <td>ศาลายา</td>\n",
       "      <td>รับ 30 คน</td>\n",
       "      <td>รับ 20 คน</td>\n",
       "      <td>รับ 26 คน</td>\n",
       "      <td>ไม่เปิดรับสมัครในรอบนี้</td>\n",
       "      <td>30000.0</td>\n",
       "    </tr>\n",
       "  </tbody>\n",
       "</table>\n",
       "</div>"
      ],
      "text/plain": [
       "                                                 url             university  \\\n",
       "0  https://course.mytcas.com/programs/10010121300...  จุฬาลงกรณ์มหาวิทยาลัย   \n",
       "1  https://course.mytcas.com/programs/10010121300...  จุฬาลงกรณ์มหาวิทยาลัย   \n",
       "2  https://course.mytcas.com/programs/10050210300...  มหาวิทยาลัยธรรมศาสตร์   \n",
       "3  https://course.mytcas.com/programs/10050222300...  มหาวิทยาลัยธรรมศาสตร์   \n",
       "4  https://course.mytcas.com/programs/10060112300...       มหาวิทยาลัยมหิดล   \n",
       "\n",
       "                          faculty                field  \\\n",
       "0               คณะวิศวกรรมศาสตร์  วิศวกรรมคอมพิวเตอร์   \n",
       "1               คณะวิศวกรรมศาสตร์  วิศวกรรมคอมพิวเตอร์   \n",
       "2               คณะวิศวกรรมศาสตร์  วิศวกรรมคอมพิวเตอร์   \n",
       "3  สถาบันเทคโนโลยีนานาชาติสิรินธร  วิศวกรรมคอมพิวเตอร์   \n",
       "4               คณะวิศวกรรมศาสตร์  วิศวกรรมคอมพิวเตอร์   \n",
       "\n",
       "                                        program_name  \\\n",
       "0  หลักสูตรวิศวกรรมศาสตรบัณฑิต สาขาวิชาวิศวกรรมคอ...   \n",
       "1  หลักสูตรวิศวกรรมศาสตรบัณฑิต สาขาวิชาวิศวกรรมคอ...   \n",
       "2                   วศ.บ.สาขาวิชาวิศวกรรมคอมพิวเตอร์   \n",
       "3  วศ.บ.สาขาวิชาวิศวกรรมดิจิทัล และวิศวกรรมคอมพิว...   \n",
       "4  หลักสูตรวิศวกรรมศาสตรบัณฑิต สาขาวิชาวิศวกรรมคอ...   \n",
       "\n",
       "                                     program_name_en  program_type  \\\n",
       "0  Bachelor of Engineering Program in Computer En...  ภาษาไทย ปกติ   \n",
       "1  Bachelor of Engineering Program in Computer En...  ภาษาไทย ปกติ   \n",
       "2  Bachelor of Engineering Program in Computer En...  ภาษาไทย ปกติ   \n",
       "3                   Bachelor of Engineering (B.Eng.)      นานาชาติ   \n",
       "4  Bachelor of Engineering Program in Computer En...  ภาษาไทย ปกติ   \n",
       "\n",
       "         campus รอบ 1 Portfolio              รอบ 2 Quota รอบ 3 Admission  \\\n",
       "0  วิทยาเขตหลัก       รับ 60 คน  ไม่เปิดรับสมัครในรอบนี้       รับ 80 คน   \n",
       "1  วิทยาเขตหลัก      รับ 220 คน                รับ 10 คน      รับ 105 คน   \n",
       "2   ศูนย์รังสิต       รับ 18 คน                รับ 23 คน       รับ 30 คน   \n",
       "3   ศูนย์รังสิต      รับ 159 คน                รับ 50 คน       รับ 15 คน   \n",
       "4        ศาลายา       รับ 30 คน                รับ 20 คน       รับ 26 คน   \n",
       "\n",
       "    รอบ 4 Direct Admission   tuition  \n",
       "0  ไม่เปิดรับสมัครในรอบนี้   25500.0  \n",
       "1  ไม่เปิดรับสมัครในรอบนี้   25500.0  \n",
       "2  ไม่เปิดรับสมัครในรอบนี้   18900.0  \n",
       "3                รับ 10 คน  101200.0  \n",
       "4  ไม่เปิดรับสมัครในรอบนี้   30000.0  "
      ]
     },
     "execution_count": 67,
     "metadata": {},
     "output_type": "execute_result"
    }
   ],
   "source": [
    "df_result = df_with_tuition.drop(columns=['ค่าใช้จ่าย', 'fee_group'])\n",
    "\n",
    "rename_dict = {\n",
    "    'ชื่อหลักสูตร': 'program_name',\n",
    "    'ชื่อหลักสูตรภาษาอังกฤษ': 'program_name_en',\n",
    "    'ประเภทหลักสูตร': 'program_type',\n",
    "    'วิทยาเขต': 'campus',\n",
    "    'ค่าใช้จ่าย': 'cost',\n",
    "    'มหาวิทยาลัย': 'university',\n",
    "    'คณะ': 'faculty',\n",
    "    'สาขา': 'field'\n",
    "}\n",
    "rename_dict = {k: v for k, v in rename_dict.items() if k in df_result.columns}\n",
    "df_result = df_result.rename(columns=rename_dict)\n",
    "\n",
    "df_result.head()"
   ]
  },
  {
   "cell_type": "code",
   "execution_count": 68,
   "id": "c92d18fb",
   "metadata": {},
   "outputs": [],
   "source": [
    "round_cols = ['รอบ 1 Portfolio', 'รอบ 2 Quota', 'รอบ 3 Admission', 'รอบ 4 Direct Admission']\n",
    "for col in round_cols:\n",
    "    if col in df_result.columns:\n",
    "        df_result[col] = (\n",
    "            df_result[col]\n",
    "            .astype(str)\n",
    "            .str.extract(r'(\\d+)')\n",
    "            .astype(float)\n",
    "        )\n",
    "    else:\n",
    "        df_result[col] = np.nan"
   ]
  },
  {
   "cell_type": "code",
   "execution_count": 69,
   "id": "13b4c45c",
   "metadata": {},
   "outputs": [],
   "source": [
    "with open(\"output_with_tuition.json\", \"w\", encoding=\"utf-8\") as f:    \n",
    "    df_result.to_json(f, orient=\"records\", force_ascii=False, indent=2)\n",
    "    # แก้ปัญหา url ถูก escape ด้วย backslash ใน json\n",
    "\n",
    "    with open(\"output_with_tuition.json\", \"r\", encoding=\"utf-8\") as f_read:\n",
    "        json_str = f_read.read()\n",
    "\n",
    "    # แก้ไข url ที่ถูก escape\n",
    "    json_str = re.sub(r'\"url\":\\s*\"(https:\\\\/\\\\/[^\"]+)\"', lambda m: '\"url\":\"%s\"' % m.group(1).replace('\\\\/', '/'), json_str)\n",
    "\n",
    "    with open(\"output_with_tuition.json\", \"w\", encoding=\"utf-8\") as f_write:\n",
    "        f_write.write(json_str)"
   ]
  },
  {
   "cell_type": "code",
   "execution_count": 70,
   "id": "259840f2",
   "metadata": {},
   "outputs": [
    {
     "data": {
      "text/plain": [
       "(63, 13)"
      ]
     },
     "execution_count": 70,
     "metadata": {},
     "output_type": "execute_result"
    }
   ],
   "source": [
    "df_result.shape"
   ]
  }
 ],
 "metadata": {
  "kernelspec": {
   "display_name": "env",
   "language": "python",
   "name": "python3"
  },
  "language_info": {
   "codemirror_mode": {
    "name": "ipython",
    "version": 3
   },
   "file_extension": ".py",
   "mimetype": "text/x-python",
   "name": "python",
   "nbconvert_exporter": "python",
   "pygments_lexer": "ipython3",
   "version": "3.10.8"
  }
 },
 "nbformat": 4,
 "nbformat_minor": 5
}
